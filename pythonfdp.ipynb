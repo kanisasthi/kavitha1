{
  "nbformat": 4,
  "nbformat_minor": 0,
  "metadata": {
    "colab": {
      "provenance": [],
      "authorship_tag": "ABX9TyM/xqp0NNRIC/GIWcJjELTN",
      "include_colab_link": true
    },
    "kernelspec": {
      "name": "python3",
      "display_name": "Python 3"
    },
    "language_info": {
      "name": "python"
    }
  },
  "cells": [
    {
      "cell_type": "markdown",
      "metadata": {
        "id": "view-in-github",
        "colab_type": "text"
      },
      "source": [
        "<a href=\"https://colab.research.google.com/github/kanisasthi/kavitha1/blob/main/pythonfdp.ipynb\" target=\"_parent\"><img src=\"https://colab.research.google.com/assets/colab-badge.svg\" alt=\"Open In Colab\"/></a>"
      ]
    },
    {
      "cell_type": "code",
      "source": [
        " my_str=\"python Rocks\"\n",
        "print(len(my_str))\n",
        "\n",
        "print(my_str[0:8])\n",
        "print(my_str[-12:-1])\n",
        "print(my_str[-12:])\n",
        "print(my_str[-3:])\n",
        "print(my_str[:-3])"
      ],
      "metadata": {
        "colab": {
          "base_uri": "https://localhost:8080/"
        },
        "id": "zkDhF6bOo0IS",
        "outputId": "7f3ac563-fb79-4bfb-b870-b382b5a2bbc3"
      },
      "execution_count": null,
      "outputs": [
        {
          "output_type": "stream",
          "name": "stdout",
          "text": [
            "12\n",
            "python R\n",
            "python Rock\n",
            "python Rocks\n",
            "cks\n",
            "python Ro\n"
          ]
        }
      ]
    },
    {
      "cell_type": "code",
      "source": [
        "month=2\n",
        "height=1.7\n",
        "type(height)"
      ],
      "metadata": {
        "colab": {
          "base_uri": "https://localhost:8080/"
        },
        "id": "pD-t_-GpP-aY",
        "outputId": "31c150c3-3c11-478a-a93b-21a32948a0ec"
      },
      "execution_count": null,
      "outputs": [
        {
          "output_type": "execute_result",
          "data": {
            "text/plain": [
              "float"
            ]
          },
          "metadata": {},
          "execution_count": 4
        }
      ]
    },
    {
      "cell_type": "code",
      "source": [
        "x=\"python progrmming\"\n",
        "type(x)"
      ],
      "metadata": {
        "colab": {
          "base_uri": "https://localhost:8080/"
        },
        "id": "jw5vNV3EQsFZ",
        "outputId": "a7403646-260f-4454-8f46-c5f43156dfd0"
      },
      "execution_count": null,
      "outputs": [
        {
          "output_type": "execute_result",
          "data": {
            "text/plain": [
              "str"
            ]
          },
          "metadata": {},
          "execution_count": 5
        }
      ]
    },
    {
      "cell_type": "code",
      "source": [
        "y=False\n",
        "type(y)"
      ],
      "metadata": {
        "colab": {
          "base_uri": "https://localhost:8080/"
        },
        "id": "NJN4RBsBQ1C5",
        "outputId": "5ec7e123-6bbe-4fa2-b4e6-d32cb4b8afb6"
      },
      "execution_count": null,
      "outputs": [
        {
          "output_type": "execute_result",
          "data": {
            "text/plain": [
              "bool"
            ]
          },
          "metadata": {},
          "execution_count": 6
        }
      ]
    },
    {
      "cell_type": "code",
      "source": [
        "my_str=\"python Rocks\"\n",
        "print(my_str)\n",
        "print(len(my_str))\n",
        "print(my_str[0])\n",
        "print(my_str[-11])\n"
      ],
      "metadata": {
        "colab": {
          "base_uri": "https://localhost:8080/"
        },
        "id": "SylrkcuGUChi",
        "outputId": "11f58682-f3fa-4767-81ac-796c62bc4e91"
      },
      "execution_count": null,
      "outputs": [
        {
          "output_type": "stream",
          "name": "stdout",
          "text": [
            "python Rocks\n",
            "12\n",
            "p\n",
            "y\n"
          ]
        }
      ]
    },
    {
      "cell_type": "code",
      "source": [
        " my_str=\"python Rocks\"\n",
        "print(my_str[1])\n",
        "\n",
        "print(\"y\" in my_str)\n",
        "print(\"a\" in my_str)\n",
        "print(\"Rocks\"in my_str)"
      ],
      "metadata": {
        "colab": {
          "base_uri": "https://localhost:8080/"
        },
        "id": "rt_mLH3sgd4a",
        "outputId": "4a044b6f-3156-4d9d-ec03-3ff301a969ff"
      },
      "execution_count": null,
      "outputs": [
        {
          "output_type": "stream",
          "name": "stdout",
          "text": [
            "y\n",
            "True\n",
            "False\n",
            "True\n"
          ]
        }
      ]
    },
    {
      "cell_type": "code",
      "execution_count": null,
      "metadata": {
        "colab": {
          "base_uri": "https://localhost:8080/"
        },
        "id": "ReUPCkIVNBdz",
        "outputId": "4146543f-1cbf-4e84-e450-e3211d885ddc"
      },
      "outputs": [
        {
          "output_type": "stream",
          "name": "stdout",
          "text": [
            "3\n"
          ]
        }
      ],
      "source": [
        "print (1+2)\n"
      ]
    },
    {
      "cell_type": "code",
      "source": [
        "mytup1=(12,25.4,\"python\",212)\n",
        "mytup2=(-21,224,87.6,\"hello\",22)\n",
        "print(mytup1)\n",
        "print(len(mytup1))\n",
        "print(type(mytup1))\n",
        "print(mytup2)\n",
        "print(len(mytup2))"
      ],
      "metadata": {
        "colab": {
          "base_uri": "https://localhost:8080/"
        },
        "id": "7hPg6R7FsM76",
        "outputId": "7a07abe5-bddd-4fd0-cd76-65df8eccea7f"
      },
      "execution_count": null,
      "outputs": [
        {
          "output_type": "stream",
          "name": "stdout",
          "text": [
            "(12, 25.4, 'python', 212)\n",
            "4\n",
            "<class 'tuple'>\n",
            "(-21, 224, 87.6, 'hello', 22)\n",
            "5\n"
          ]
        }
      ]
    },
    {
      "cell_type": "code",
      "source": [
        "emptup=()\n",
        "print(type(emptup))\n",
        "print(emptup)\n",
        "onetup=(211.5,)\n",
        "print(type(onetup))\n",
        "print(onetup)"
      ],
      "metadata": {
        "colab": {
          "base_uri": "https://localhost:8080/"
        },
        "id": "GQ-k8gzzvEZE",
        "outputId": "06b633ac-e8dc-45c6-d7a6-ed829960aafa"
      },
      "execution_count": null,
      "outputs": [
        {
          "output_type": "stream",
          "name": "stdout",
          "text": [
            "<class 'tuple'>\n",
            "()\n",
            "<class 'tuple'>\n",
            "(211.5,)\n"
          ]
        }
      ]
    },
    {
      "cell_type": "code",
      "source": [
        "testtup1=(3,4),\n",
        "testtup2=(5,6),\n",
        "res=testtup1+testtup2\n",
        "print(\"tuples are  concatenation\" +str(res))\n",
        "print(len(res))"
      ],
      "metadata": {
        "colab": {
          "base_uri": "https://localhost:8080/"
        },
        "id": "71QRr7KdwpWb",
        "outputId": "0f75eee5-47de-4574-8f70-11dcf86e772f"
      },
      "execution_count": null,
      "outputs": [
        {
          "output_type": "stream",
          "name": "stdout",
          "text": [
            "tuples are  concatenation((3, 4), (5, 6))\n",
            "2\n"
          ]
        }
      ]
    },
    {
      "cell_type": "code",
      "source": [
        "testtup1=(3,4),\n",
        "testtup2=(5,6),\n",
        "res=testtup1+testtup2\n",
        "x=res*4\n",
        "print(\"tuples are  concatenation\" +str(res))\n",
        "print(len(res))"
      ],
      "metadata": {
        "colab": {
          "base_uri": "https://localhost:8080/"
        },
        "id": "gxD1gX6-yUO7",
        "outputId": "69f1bdee-cb1a-4441-fa0f-fab97caa3d87"
      },
      "execution_count": null,
      "outputs": [
        {
          "output_type": "stream",
          "name": "stdout",
          "text": [
            "tuples are  concatenation((3, 4), (5, 6))\n",
            "2\n"
          ]
        }
      ]
    },
    {
      "cell_type": "code",
      "source": [
        "fam=[\"kani\",345,34.6,\"tiger\"]\n",
        "print(fam)\n",
        "fam\n"
      ],
      "metadata": {
        "colab": {
          "base_uri": "https://localhost:8080/"
        },
        "id": "7NfUfJF2z3rR",
        "outputId": "01efe21c-1a68-4eec-e6cd-b4c126ed1f10"
      },
      "execution_count": null,
      "outputs": [
        {
          "output_type": "stream",
          "name": "stdout",
          "text": [
            "['kani', 345, 34.6, 'tiger']\n"
          ]
        },
        {
          "output_type": "execute_result",
          "data": {
            "text/plain": [
              "['kani', 345, 34.6, 'tiger']"
            ]
          },
          "metadata": {},
          "execution_count": 26
        }
      ]
    },
    {
      "cell_type": "code",
      "source": [
        "fam=[\"kani\",345,34.6,\"tiger\"]\n",
        "type(fam)\n",
        "fam"
      ],
      "metadata": {
        "colab": {
          "base_uri": "https://localhost:8080/"
        },
        "id": "KtGzzBM30b2L",
        "outputId": "901f9bca-aec9-4ac1-ddce-208e3e66e128"
      },
      "execution_count": null,
      "outputs": [
        {
          "output_type": "execute_result",
          "data": {
            "text/plain": [
              "['kani', 345, 34.6, 'tiger']"
            ]
          },
          "metadata": {},
          "execution_count": 27
        }
      ]
    },
    {
      "cell_type": "code",
      "source": [
        "fam=[\"liz\",1.73,\"mom\",1.71,\"dad\",1.89]\n",
        "print(fam[3:5])\n",
        "fam[:4]\n",
        "fam[3:]"
      ],
      "metadata": {
        "colab": {
          "base_uri": "https://localhost:8080/"
        },
        "id": "oeGyGzhu3FS6",
        "outputId": "f0beedf2-fa20-4b60-d886-1b31a926ef5f"
      },
      "execution_count": null,
      "outputs": [
        {
          "output_type": "stream",
          "name": "stdout",
          "text": [
            "[1.71, 'dad']\n"
          ]
        },
        {
          "output_type": "execute_result",
          "data": {
            "text/plain": [
              "[1.71, 'dad', 1.89]"
            ]
          },
          "metadata": {},
          "execution_count": 33
        }
      ]
    },
    {
      "cell_type": "code",
      "source": [
        "fam=[\"liz\",1.73,\"mom\",1.71,\"dad\",1.89]\n",
        "print(fam[3:5])\n",
        "print(fam[:4])\n",
        "fam[3:]"
      ],
      "metadata": {
        "colab": {
          "base_uri": "https://localhost:8080/"
        },
        "id": "pYACgUAa53nq",
        "outputId": "f4118c0d-8e95-49b2-b1a9-f996eeef0691"
      },
      "execution_count": null,
      "outputs": [
        {
          "output_type": "stream",
          "name": "stdout",
          "text": [
            "[1.71, 'dad']\n",
            "['liz', 1.73, 'mom', 1.71]\n"
          ]
        },
        {
          "output_type": "execute_result",
          "data": {
            "text/plain": [
              "[1.71, 'dad', 1.89]"
            ]
          },
          "metadata": {},
          "execution_count": 34
        }
      ]
    }
  ]
}